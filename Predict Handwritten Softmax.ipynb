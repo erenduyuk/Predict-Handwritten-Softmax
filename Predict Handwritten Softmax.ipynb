{
 "cells": [
  {
   "cell_type": "code",
   "execution_count": 1,
   "id": "6f969e43",
   "metadata": {},
   "outputs": [],
   "source": [
    "#  Import all the packages\n",
    "import numpy as np\n",
    "import pandas as pd\n",
    "import tensorflow as tf\n",
    "from tensorflow.keras.models import Sequential\n",
    "from tensorflow.keras.layers import Dense\n",
    "from tensorflow.keras.activations import linear, relu, sigmoid\n",
    "import matplotlib.pyplot as plt\n",
    "from autils import *\n",
    "import mnist"
   ]
  },
  {
   "cell_type": "code",
   "execution_count": 2,
   "id": "020460c0",
   "metadata": {},
   "outputs": [],
   "source": [
    "# Download mnist dataset that handwritten numbers\n",
    "(x_train, y_train), (x_test, y_test) = tf.keras.datasets.mnist.load_data()"
   ]
  },
  {
   "cell_type": "code",
   "execution_count": 3,
   "id": "f677852a",
   "metadata": {},
   "outputs": [
    {
     "name": "stdout",
     "output_type": "stream",
     "text": [
      "Shape of x_train:  (60000, 28, 28)\n",
      "Shape of x_text:  (10000, 28, 28)\n"
     ]
    }
   ],
   "source": [
    "# Print x_train shape and x_test shape\n",
    "print(\"Shape of x_train: \", x_train.shape)\n",
    "print(\"Shape of x_text: \", x_test.shape)"
   ]
  },
  {
   "cell_type": "code",
   "execution_count": 4,
   "id": "99b92186",
   "metadata": {},
   "outputs": [
    {
     "name": "stdout",
     "output_type": "stream",
     "text": [
      "Shape of x_train:  (60000,)\n",
      "Shape of x_text:  (10000,)\n"
     ]
    }
   ],
   "source": [
    "# Print y_train shape and y_test shape\n",
    "print(\"Shape of x_train: \", y_train.shape)\n",
    "print(\"Shape of x_text: \", y_test.shape)"
   ]
  },
  {
   "cell_type": "code",
   "execution_count": 5,
   "id": "7a711071",
   "metadata": {},
   "outputs": [],
   "source": [
    "# Normalize data\n",
    "x_train = tf.keras.utils.normalize(x_train, axis=1)\n",
    "x_test = tf.keras.utils.normalize(x_test, axis=1)"
   ]
  },
  {
   "cell_type": "code",
   "execution_count": 6,
   "id": "3893ed62",
   "metadata": {},
   "outputs": [],
   "source": [
    "# Create model\n",
    "model = tf.keras.models.Sequential()\n",
    "model.add(tf.keras.layers.Flatten(input_shape=(28, 28)))\n",
    "model.add(tf.keras.layers.Dense(128, activation=\"relu\"))\n",
    "model.add(tf.keras.layers.Dense(128, activation=\"relu\"))\n",
    "model.add(tf.keras.layers.Dense(10, activation=\"softmax\"))"
   ]
  },
  {
   "cell_type": "code",
   "execution_count": 7,
   "id": "8574ae30",
   "metadata": {},
   "outputs": [
    {
     "name": "stdout",
     "output_type": "stream",
     "text": [
      "Epoch 1/3\n",
      "1875/1875 [==============================] - 2s 759us/step - loss: 0.2615 - accuracy: 0.9226 - val_loss: 0.1335 - val_accuracy: 0.9602\n",
      "Epoch 2/3\n",
      "1875/1875 [==============================] - 1s 706us/step - loss: 0.1077 - accuracy: 0.9665 - val_loss: 0.0992 - val_accuracy: 0.9690\n",
      "Epoch 3/3\n",
      "1875/1875 [==============================] - 1s 712us/step - loss: 0.0723 - accuracy: 0.9775 - val_loss: 0.1095 - val_accuracy: 0.9660\n"
     ]
    }
   ],
   "source": [
    "# Compile and fit the model\n",
    "model.compile(optimizer=\"adam\", loss=\"sparse_categorical_crossentropy\", metrics=\"accuracy\")\n",
    "history = model.fit(x_train, y_train, epochs=3, validation_data=(x_test,y_test), verbose=1)"
   ]
  },
  {
   "cell_type": "code",
   "execution_count": 8,
   "id": "1efb7f13",
   "metadata": {},
   "outputs": [
    {
     "name": "stdout",
     "output_type": "stream",
     "text": [
      "1/1 [==============================] - 0s 29ms/step\n",
      " predicting a Two: \n",
      "[[4.8387328e-08 7.4581595e-07 2.9889879e-08 9.9985564e-01 3.5136927e-06\n",
      "  1.0380030e-04 7.4539354e-11 2.1985645e-05 2.4271685e-07 1.4111960e-05]]\n",
      " Largest Prediction index: 3\n",
      " Actually value: 3\n"
     ]
    }
   ],
   "source": [
    "# Compare x_train and y_train\n",
    "index = 643\n",
    "image_of_two = x_train[index]\n",
    "\n",
    "\n",
    "prediction = model.predict(image_of_two.reshape(1,28, 28))  # prediction\n",
    "\n",
    "print(f\" predicting a Two: \\n{prediction}\")\n",
    "print(f\" Largest Prediction index: {np.argmax(prediction)}\")\n",
    "print(f\" Actually value: {y_train[index]}\")"
   ]
  },
  {
   "cell_type": "code",
   "execution_count": 9,
   "id": "446e4aa0",
   "metadata": {},
   "outputs": [
    {
     "name": "stdout",
     "output_type": "stream",
     "text": [
      "313/313 [==============================] - 0s 340us/step\n"
     ]
    }
   ],
   "source": [
    "# Predict t_text\n",
    "predictArray = (model.predict(x_test))"
   ]
  },
  {
   "cell_type": "code",
   "execution_count": 10,
   "id": "dff2e2c2",
   "metadata": {},
   "outputs": [
    {
     "data": {
      "text/plain": [
       "(10000, 10)"
      ]
     },
     "execution_count": 10,
     "metadata": {},
     "output_type": "execute_result"
    }
   ],
   "source": [
    "predictArray.shape"
   ]
  },
  {
   "cell_type": "code",
   "execution_count": 11,
   "id": "bb3ea3ed",
   "metadata": {},
   "outputs": [
    {
     "data": {
      "text/plain": [
       "array([[5.50929613e-08, 4.92937545e-07, 8.59837292e-06, 1.64030702e-04,\n",
       "        9.01656207e-08, 2.44755370e-06, 2.52980753e-12, 9.99766409e-01,\n",
       "        1.95457096e-06, 5.59539658e-05],\n",
       "       [2.92989029e-07, 7.67655857e-03, 9.91612673e-01, 3.08354865e-05,\n",
       "        2.44679427e-07, 5.92571683e-04, 1.80113093e-05, 2.97311288e-07,\n",
       "        6.83470862e-05, 1.92489125e-07],\n",
       "       [1.09375602e-08, 9.99240398e-01, 2.96977378e-04, 4.10519215e-06,\n",
       "        4.06502768e-05, 1.08110875e-07, 2.88750243e-07, 4.11239802e-04,\n",
       "        6.07011270e-06, 2.76602094e-07],\n",
       "       [9.88615394e-01, 2.87152099e-04, 9.96254617e-04, 2.09244645e-05,\n",
       "        2.27417401e-03, 2.99073406e-04, 5.61435288e-03, 1.60480198e-03,\n",
       "        1.04487472e-05, 2.77493091e-04],\n",
       "       [1.58078819e-07, 5.42647101e-08, 8.71093835e-06, 3.16866533e-07,\n",
       "        9.99837279e-01, 4.45742353e-06, 9.03057867e-07, 5.17586250e-06,\n",
       "        6.24006771e-06, 1.36688119e-04]], dtype=float32)"
      ]
     },
     "execution_count": 11,
     "metadata": {},
     "output_type": "execute_result"
    }
   ],
   "source": [
    "predictArray[:5]"
   ]
  },
  {
   "cell_type": "code",
   "execution_count": 12,
   "id": "ebf9b3d9",
   "metadata": {},
   "outputs": [],
   "source": [
    "# predictArray convert to predict_y\n",
    "predict_y = np.argsort(predictArray, axis=1)[:, -1].astype(\"uint8\")"
   ]
  },
  {
   "cell_type": "code",
   "execution_count": 13,
   "id": "23045dae",
   "metadata": {},
   "outputs": [
    {
     "data": {
      "text/plain": [
       "array([7, 2, 1, 0, 4], dtype=uint8)"
      ]
     },
     "execution_count": 13,
     "metadata": {},
     "output_type": "execute_result"
    }
   ],
   "source": [
    "predict_y[:5]"
   ]
  },
  {
   "cell_type": "code",
   "execution_count": 14,
   "id": "cd6d5e30",
   "metadata": {},
   "outputs": [
    {
     "data": {
      "text/plain": [
       "array([7, 2, 1, 0, 4], dtype=uint8)"
      ]
     },
     "execution_count": 14,
     "metadata": {},
     "output_type": "execute_result"
    }
   ],
   "source": [
    "y_test[:5]"
   ]
  },
  {
   "cell_type": "code",
   "execution_count": 15,
   "id": "49c0e6ec",
   "metadata": {},
   "outputs": [],
   "source": [
    "# Compare y_test and predict_y\n",
    "different_indexs = np.array(np.where(predict_y != y_test)).reshape(-1,1)"
   ]
  },
  {
   "cell_type": "code",
   "execution_count": 16,
   "id": "a101abb4",
   "metadata": {},
   "outputs": [
    {
     "name": "stdout",
     "output_type": "stream",
     "text": [
      "Number of different index:  340\n",
      "[[ 18]\n",
      " [ 96]\n",
      " [151]\n",
      " [217]\n",
      " [241]]\n"
     ]
    }
   ],
   "source": [
    "print(\"Number of different index: \", len(different_indexs))\n",
    "print(different_indexs[:5])"
   ]
  },
  {
   "cell_type": "code",
   "execution_count": 17,
   "id": "aa8473bb",
   "metadata": {},
   "outputs": [
    {
     "name": "stdout",
     "output_type": "stream",
     "text": [
      "Train Accuracy:  96.6\n"
     ]
    }
   ],
   "source": [
    "print('Train Accuracy: ', (len(y_test)-len(different_indexs)) / len(y_test) * 100)"
   ]
  },
  {
   "cell_type": "code",
   "execution_count": null,
   "id": "d0283953",
   "metadata": {},
   "outputs": [],
   "source": []
  }
 ],
 "metadata": {
  "kernelspec": {
   "display_name": "Python 3 (ipykernel)",
   "language": "python",
   "name": "python3"
  },
  "language_info": {
   "codemirror_mode": {
    "name": "ipython",
    "version": 3
   },
   "file_extension": ".py",
   "mimetype": "text/x-python",
   "name": "python",
   "nbconvert_exporter": "python",
   "pygments_lexer": "ipython3",
   "version": "3.11.3"
  }
 },
 "nbformat": 4,
 "nbformat_minor": 5
}
